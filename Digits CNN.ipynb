{
 "cells": [
  {
   "cell_type": "code",
   "execution_count": 2,
   "metadata": {},
   "outputs": [],
   "source": [
    "import tensorflow as tf\n",
    "from tensorflow import keras\n",
    "from keras.datasets import mnist\n",
    "from keras.models import Sequential\n",
    "from keras.layers import Dense, Conv2D, Flatten,Dropout, MaxPooling2D,BatchNormalization\n",
    "from keras.utils import to_categorical\n",
    "from keras.preprocessing import image\n",
    "from keras.optimizers import RMSprop,Adam\n",
    "from keras.optimizers import SGD\n",
    "import matplotlib.pyplot as plt\n",
    "\n",
    "# model.save('path/to/location')\n",
    "# model = keras.models.load_model('simple_sequential_model')"
   ]
  },
  {
   "cell_type": "code",
   "execution_count": 4,
   "metadata": {
    "scrolled": true
   },
   "outputs": [],
   "source": [
    "x=mnist.load_data()\n",
    "(xtrain,ytrain),(xtest,ytest)=x\n",
    "\n",
    "# Reshaping the image dimension\n",
    "xtrain=xtrain.reshape(60000,28,28,1)\n",
    "xtest=xtest.reshape(10000,28,28,1)\n",
    "\n",
    "# Reshaping the answer dimensions/ONE-Hot Encoding (from single digit to array with only answer index as 1 rest all 0)\n",
    "ytrain = to_categorical(ytrain)\n",
    "ytest=to_categorical(ytest)"
   ]
  },
  {
   "cell_type": "code",
   "execution_count": 117,
   "metadata": {},
   "outputs": [
    {
     "name": "stdout",
     "output_type": "stream",
     "text": [
      "28 28 1\n"
     ]
    }
   ],
   "source": [
    "'''\n",
    "# Preprocessing\n",
    "img=xtrain[55]\n",
    "y,x,z=img.shape\n",
    "print(y,x,z)\n",
    "x_dash=tf.keras.preprocessing.image.random_rotation(\n",
    "    img, rg=120,  row_axis=y/2, col_axis=x/2, channel_axis=0, fill_mode='nearest', cval=0.0,\n",
    "    interpolation_order=1)\n",
    "showit(x_dash)\n",
    "x_dash=tf.keras.preprocessing.image.random_zoom(\n",
    "    img, zoom_range=(0.9,0.8),  row_axis=y/2, col_axis=x/2, channel_axis=0, fill_mode='nearest', cval=0.0,\n",
    "    interpolation_order=1)\n",
    "showit(x_dash)\n",
    "'''"
   ]
  },
  {
   "cell_type": "code",
   "execution_count": null,
   "metadata": {},
   "outputs": [],
   "source": [
    "'''\n",
    "x=xtrain.copy()\n",
    "for i in range(0,xtrain.shape[0]):\n",
    "    nop=0\n",
    "    '''\n",
    "    x_dash=tf.keras.preprocessing.image.random_rotation(\n",
    "        img, rg=120,  row_axis=y/2, col_axis=x/2, channel_axis=0, fill_mode='nearest', cval=0.0,\n",
    "        interpolation_order=1)\n",
    "    '''\n",
    "    x_dash=tf.keras.preprocessing.image.random_zoom(\n",
    "        x_dash, zoom_range=(0.9,0.8),  row_axis=y/2, col_axis=x/2, channel_axis=0, fill_mode='nearest', cval=0.0,\n",
    "        interpolation_order=1)\n",
    "    '''\n",
    "    for i in range(0,28):\n",
    "        for j in range(0,28):\n",
    "            if x_dash[i][j]>200:\n",
    "                nop=nop+1\n",
    "    if(nop>100):\n",
    "        x=np.append(x,x_dash)\n",
    "    '''\n",
    "    x=np.append(x,x_dash)\n",
    "print(x.shape)\n",
    "'''"
   ]
  },
  {
   "cell_type": "code",
   "execution_count": 45,
   "metadata": {
    "scrolled": true
   },
   "outputs": [
    {
     "data": {
      "text/plain": [
       "'\\nmodel=Sequential()\\nmodel.add(Conv2D(32,kernel_size=(3,3),input_shape=(28,28,1),activation=\\'relu\\'))\\nmodel.add(Conv2D(64,kernel_size=(3,3),activation=\\'relu\\'))\\nmodel.add(MaxPooling2D(pool_size=(2,2)))\\nmodel.add(Dropout(0.25))\\nmodel.add(Flatten())\\nmodel.add(Dense(128,activation=\"relu\"))\\nmodel.add(Dropout(0.5))\\nmodel.add(Dense(10,activation=\\'softmax\\'))\\nprint(\"--------------------------------------------------\")\\n# compile the model using accuracy to measure model performance\\nmodel.compile(optimizer=\\'adam\\',loss=\\'categorical_crossentropy\\',metrics=[\\'accuracy\\'])\\n'"
      ]
     },
     "execution_count": 45,
     "metadata": {},
     "output_type": "execute_result"
    }
   ],
   "source": [
    "# Model Creation\n",
    "'''\n",
    "model=Sequential()\n",
    "model.add(Conv2D(784,(2,2),activation='relu',kernel_initializer='he_uniform', input_shape=(28, 28, 1)))\n",
    "model.add(MaxPooling2D((2, 2)))\n",
    "model.add(Dense(100, activation='relu', kernel_initializer='he_uniform'))\n",
    "model.add(Conv2D(196,(2,2),activation='relu',kernel_initializer='he_uniform', input_shape=(28, 28, 1)))\n",
    "model.add(MaxPooling2D((2, 2)))\n",
    "model.add(Dense(100, activation='relu', kernel_initializer='he_uniform'))\n",
    "model.add(Conv2D(49,(2,2),activation='relu',kernel_initializer='he_uniform', input_shape=(28, 28, 1)))\n",
    "model.add(MaxPooling2D((2, 2)))\n",
    "model.add(Dense(100, activation='relu', kernel_initializer='he_uniform'))\n",
    "model.add(Flatten())\n",
    "model.add(Dense(10, activation='softmax'))\n",
    "\n",
    "opt = SGD(lr=0.01, momentum=0.9)\n",
    "model.compile(optimizer=opt, loss='categorical_crossentropy', metrics=['accuracy'])\n",
    "'''\n",
    "\n",
    "'''\n",
    "model=Sequential()\n",
    "model.add(Conv2D(32, (3, 3), activation='relu', kernel_initializer='he_uniform', input_shape=(28, 28, 1)))\n",
    "model.add(MaxPooling2D((2, 2)))\n",
    "model.add(Conv2D(64, (3, 3), activation='relu', kernel_initializer='he_uniform'))\n",
    "model.add(Conv2D(64, (3, 3), activation='relu', kernel_initializer='he_uniform'))\n",
    "model.add(MaxPooling2D((2, 2)))\n",
    "model.add(Flatten())\n",
    "model.add(Dense(100, activation='relu', kernel_initializer='he_uniform'))\n",
    "model.add(Dense(10, activation='softmax'))\n",
    "\n",
    "opt = SGD(lr=0.01, momentum=0.9)\n",
    "model.compile(optimizer=opt, loss='categorical_crossentropy', metrics=['accuracy'])\n",
    "'''\n",
    "\n",
    "'''\n",
    "model=Sequential()\n",
    "model.add(Conv2D(64,kernel_size=3,activation='relu',input_shape=(28,28,1)))\n",
    "model.add(Conv2D(32,kernel_size=3,activation='relu'))\n",
    "model.add(Flatten())\n",
    "model.add(Dense(10,activation='softmax'))\n",
    "'''\n",
    "\n",
    "'''\n",
    "model=Sequential()\n",
    "model.add(Conv2D(32,kernel_size=(3,3),input_shape=(28,28,1),activation='relu'))\n",
    "model.add(Conv2D(64,kernel_size=(3,3),activation='relu'))\n",
    "model.add(MaxPooling2D(pool_size=(2,2)))\n",
    "model.add(Dropout(0.25))\n",
    "model.add(Flatten())\n",
    "model.add(Dense(128,activation=\"relu\"))\n",
    "model.add(Dropout(0.5))\n",
    "model.add(Dense(10,activation='softmax'))\n",
    "print(\"--------------------------------------------------\")\n",
    "# compile the model using accuracy to measure model performance\n",
    "model.compile(optimizer='adam',loss='categorical_crossentropy',metrics=['accuracy'])\n",
    "'''"
   ]
  },
  {
   "cell_type": "code",
   "execution_count": 1,
   "metadata": {
    "scrolled": true
   },
   "outputs": [
    {
     "data": {
      "text/plain": [
       "'\\nmodel=Sequential()\\nmodel.add(Conv2D(filters = 32, kernel_size = (5,5),padding = \\'Same\\', activation =\\'relu\\', input_shape = (28,28,1)))\\nmodel.add(Conv2D(filters = 32, kernel_size = (5,5),padding = \\'Same\\',activation =\\'relu\\'))\\nmodel.add(BatchNormalization(momentum = .05))\\nmodel.add(MaxPooling2D(pool_size=(2,2)))\\nmodel.add(Dropout(0.25))\\nmodel.add(Conv2D(filters = 64, kernel_size = (3,3),padding = \\'Same\\', activation =\\'relu\\'))\\nmodel.add(Conv2D(filters = 64, kernel_size = (3,3),padding = \\'Same\\', activation =\\'relu\\'))\\nmodel.add(BatchNormalization(momentum=0.05))\\nmodel.add(MaxPooling2D(pool_size=(2,2), strides=(2,2)))\\nmodel.add(Dropout(0.25))\\nmodel.add(Conv2D(filters = 32, kernel_size = (5,5),padding = \\'Same\\', activation =\\'relu\\', input_shape = (28,28,1)))\\nmodel.add(Conv2D(filters = 32, kernel_size = (5,5),padding = \\'Same\\', activation =\\'relu\\'))\\nmodel.add(BatchNormalization(momentum=.05))\\nmodel.add(MaxPooling2D(pool_size=(2,2)))\\nmodel.add(Dropout(0.25))\\n\\nmodel.add(Flatten())\\nmodel.add(Dense(256, activation = \\'relu\\'))\\nmodel.add(Dropout(0.4))\\nmodel.add(Dense(10, activation = \"softmax\"))\\n\\noptimizer = Adam(learning_rate=0.001 , beta_1=0.9 ,beta_2 = 0.999)\\nmodel.compile(optimizer=optimizer , loss=[\\'categorical_crossentropy\\'],metrics = [\\'accuracy\\'])\\n\\n# opt = SGD(lr=0.01, momentum=0.9)\\n# model.compile(optimizer=opt, loss=\\'categorical_crossentropy\\', metrics=[\\'accuracy\\'])\\nmodel.summary()\\n'"
      ]
     },
     "execution_count": 1,
     "metadata": {},
     "output_type": "execute_result"
    }
   ],
   "source": [
    "'''\n",
    "model=Sequential()\n",
    "model.add(Conv2D(filters = 32, kernel_size = (5,5),padding = 'Same', activation ='relu', input_shape = (28,28,1)))\n",
    "model.add(Conv2D(filters = 32, kernel_size = (5,5),padding = 'Same',activation ='relu'))\n",
    "model.add(BatchNormalization(momentum = .05))\n",
    "model.add(MaxPooling2D(pool_size=(2,2)))\n",
    "model.add(Dropout(0.25))\n",
    "model.add(Conv2D(filters = 64, kernel_size = (3,3),padding = 'Same', activation ='relu'))\n",
    "model.add(Conv2D(filters = 64, kernel_size = (3,3),padding = 'Same', activation ='relu'))\n",
    "model.add(BatchNormalization(momentum=0.05))\n",
    "model.add(MaxPooling2D(pool_size=(2,2), strides=(2,2)))\n",
    "model.add(Dropout(0.25))\n",
    "model.add(Conv2D(filters = 32, kernel_size = (5,5),padding = 'Same', activation ='relu', input_shape = (28,28,1)))\n",
    "model.add(Conv2D(filters = 32, kernel_size = (5,5),padding = 'Same', activation ='relu'))\n",
    "model.add(BatchNormalization(momentum=.05))\n",
    "model.add(MaxPooling2D(pool_size=(2,2)))\n",
    "model.add(Dropout(0.25))\n",
    "\n",
    "model.add(Flatten())\n",
    "model.add(Dense(256, activation = 'relu'))\n",
    "model.add(Dropout(0.4))\n",
    "model.add(Dense(10, activation = \"softmax\"))\n",
    "\n",
    "optimizer = Adam(learning_rate=0.001 , beta_1=0.9 ,beta_2 = 0.999)\n",
    "model.compile(optimizer=optimizer , loss=['categorical_crossentropy'],metrics = ['accuracy'])\n",
    "\n",
    "# opt = SGD(lr=0.01, momentum=0.9)\n",
    "# model.compile(optimizer=opt, loss='categorical_crossentropy', metrics=['accuracy'])\n",
    "model.summary()\n",
    "'''"
   ]
  },
  {
   "cell_type": "code",
   "execution_count": 6,
   "metadata": {},
   "outputs": [
    {
     "name": "stdout",
     "output_type": "stream",
     "text": [
      "Model: \"sequential_1\"\n",
      "_________________________________________________________________\n",
      "Layer (type)                 Output Shape              Param #   \n",
      "=================================================================\n",
      "conv2d_6 (Conv2D)            (None, 26, 26, 32)        320       \n",
      "_________________________________________________________________\n",
      "batch_normalization_7 (Batch (None, 26, 26, 32)        128       \n",
      "_________________________________________________________________\n",
      "conv2d_7 (Conv2D)            (None, 24, 24, 32)        9248      \n",
      "_________________________________________________________________\n",
      "batch_normalization_8 (Batch (None, 24, 24, 32)        128       \n",
      "_________________________________________________________________\n",
      "conv2d_8 (Conv2D)            (None, 12, 12, 32)        25632     \n",
      "_________________________________________________________________\n",
      "batch_normalization_9 (Batch (None, 12, 12, 32)        128       \n",
      "_________________________________________________________________\n",
      "dropout_3 (Dropout)          (None, 12, 12, 32)        0         \n",
      "_________________________________________________________________\n",
      "conv2d_9 (Conv2D)            (None, 10, 10, 64)        18496     \n",
      "_________________________________________________________________\n",
      "batch_normalization_10 (Batc (None, 10, 10, 64)        256       \n",
      "_________________________________________________________________\n",
      "conv2d_10 (Conv2D)           (None, 8, 8, 64)          36928     \n",
      "_________________________________________________________________\n",
      "batch_normalization_11 (Batc (None, 8, 8, 64)          256       \n",
      "_________________________________________________________________\n",
      "conv2d_11 (Conv2D)           (None, 4, 4, 64)          102464    \n",
      "_________________________________________________________________\n",
      "batch_normalization_12 (Batc (None, 4, 4, 64)          256       \n",
      "_________________________________________________________________\n",
      "dropout_4 (Dropout)          (None, 4, 4, 64)          0         \n",
      "_________________________________________________________________\n",
      "flatten_1 (Flatten)          (None, 1024)              0         \n",
      "_________________________________________________________________\n",
      "dense_2 (Dense)              (None, 128)               131200    \n",
      "_________________________________________________________________\n",
      "batch_normalization_13 (Batc (None, 128)               512       \n",
      "_________________________________________________________________\n",
      "dropout_5 (Dropout)          (None, 128)               0         \n",
      "_________________________________________________________________\n",
      "dense_3 (Dense)              (None, 10)                1290      \n",
      "=================================================================\n",
      "Total params: 327,242\n",
      "Trainable params: 326,410\n",
      "Non-trainable params: 832\n",
      "_________________________________________________________________\n"
     ]
    }
   ],
   "source": [
    "model = Sequential()\n",
    "\n",
    "model.add(Conv2D(32,kernel_size=3,activation='relu',input_shape=(28,28,1)))\n",
    "model.add(BatchNormalization())\n",
    "model.add(Conv2D(32,kernel_size=3,activation='relu'))\n",
    "model.add(BatchNormalization())\n",
    "model.add(Conv2D(32,kernel_size=5,strides=2,padding='same',activation='relu'))\n",
    "model.add(BatchNormalization())\n",
    "model.add(Dropout(0.4))\n",
    "\n",
    "model.add(Conv2D(64,kernel_size=3,activation='relu'))\n",
    "model.add(BatchNormalization())\n",
    "model.add(Conv2D(64,kernel_size=3,activation='relu'))\n",
    "model.add(BatchNormalization())\n",
    "model.add(Conv2D(64,kernel_size=5,strides=2,padding='same',activation='relu'))\n",
    "model.add(BatchNormalization())\n",
    "model.add(Dropout(0.4))\n",
    "\n",
    "model.add(Flatten())\n",
    "model.add(Dense(128, activation='relu'))\n",
    "model.add(BatchNormalization())\n",
    "model.add(Dropout(0.4))\n",
    "model.add(Dense(10, activation='softmax'))\n",
    "\n",
    "model.compile(optimizer=\"adam\", loss=\"categorical_crossentropy\", metrics=[\"accuracy\"])\n",
    "model.summary()"
   ]
  },
  {
   "cell_type": "code",
   "execution_count": 8,
   "metadata": {
    "scrolled": true
   },
   "outputs": [
    {
     "data": {
      "text/plain": [
       "\"\\nfrom keras.callbacks import ReduceLROnPlateau\\nlearning_rate_reduction = ReduceLROnPlateau(monitor = 'val_acc',\\n                                            patience = 5 ,\\n                                            verbose = 1,\\n                                            factor = 0.5 , \\n                                            min_lr = 0.00001)\\n\""
      ]
     },
     "execution_count": 8,
     "metadata": {},
     "output_type": "execute_result"
    }
   ],
   "source": [
    "'''\n",
    "from keras.callbacks import ReduceLROnPlateau\n",
    "learning_rate_reduction = ReduceLROnPlateau(monitor = 'val_acc',\n",
    "                                            patience = 5 ,\n",
    "                                            verbose = 1,\n",
    "                                            factor = 0.5 , \n",
    "                                            min_lr = 0.00001)\n",
    "'''"
   ]
  },
  {
   "cell_type": "code",
   "execution_count": 7,
   "metadata": {
    "scrolled": true
   },
   "outputs": [
    {
     "name": "stdout",
     "output_type": "stream",
     "text": [
      "Epoch 1/30\n",
      "600/600 [==============================] - 270s 450ms/step - loss: 0.2485 - accuracy: 0.9240 - val_loss: 0.0382 - val_accuracy: 0.9876\n",
      "Epoch 2/30\n",
      "600/600 [==============================] - 244s 407ms/step - loss: 0.0656 - accuracy: 0.9797 - val_loss: 0.0450 - val_accuracy: 0.9864\n",
      "Epoch 3/30\n",
      "600/600 [==============================] - 258s 429ms/step - loss: 0.0493 - accuracy: 0.9847 - val_loss: 0.0214 - val_accuracy: 0.9933\n",
      "Epoch 4/30\n",
      "600/600 [==============================] - 247s 411ms/step - loss: 0.0401 - accuracy: 0.9875 - val_loss: 0.0224 - val_accuracy: 0.9926\n",
      "Epoch 5/30\n",
      "600/600 [==============================] - 249s 415ms/step - loss: 0.0340 - accuracy: 0.9898 - val_loss: 0.0260 - val_accuracy: 0.9920\n",
      "Epoch 6/30\n",
      "600/600 [==============================] - 245s 408ms/step - loss: 0.0331 - accuracy: 0.9899 - val_loss: 0.0316 - val_accuracy: 0.9906\n",
      "Epoch 7/30\n",
      "600/600 [==============================] - 242s 403ms/step - loss: 0.0315 - accuracy: 0.9902 - val_loss: 0.0173 - val_accuracy: 0.9940\n",
      "Epoch 8/30\n",
      "600/600 [==============================] - 244s 407ms/step - loss: 0.0275 - accuracy: 0.9911 - val_loss: 0.0238 - val_accuracy: 0.9928\n",
      "Epoch 9/30\n",
      "600/600 [==============================] - 244s 406ms/step - loss: 0.0251 - accuracy: 0.9924 - val_loss: 0.0182 - val_accuracy: 0.9936\n",
      "Epoch 10/30\n",
      "600/600 [==============================] - 244s 406ms/step - loss: 0.0238 - accuracy: 0.9925 - val_loss: 0.0260 - val_accuracy: 0.9920\n",
      "Epoch 11/30\n",
      "600/600 [==============================] - 242s 403ms/step - loss: 0.0243 - accuracy: 0.9923 - val_loss: 0.0176 - val_accuracy: 0.9945\n",
      "Epoch 12/30\n",
      "600/600 [==============================] - 244s 407ms/step - loss: 0.0204 - accuracy: 0.9933 - val_loss: 0.0179 - val_accuracy: 0.9942\n",
      "Epoch 13/30\n",
      "600/600 [==============================] - 243s 405ms/step - loss: 0.0178 - accuracy: 0.9943 - val_loss: 0.0172 - val_accuracy: 0.9946\n",
      "Epoch 14/30\n",
      "600/600 [==============================] - 241s 402ms/step - loss: 0.0199 - accuracy: 0.9939 - val_loss: 0.0176 - val_accuracy: 0.9952\n",
      "Epoch 15/30\n",
      "600/600 [==============================] - 243s 405ms/step - loss: 0.0166 - accuracy: 0.9952 - val_loss: 0.0195 - val_accuracy: 0.9940\n",
      "Epoch 16/30\n",
      "600/600 [==============================] - 244s 407ms/step - loss: 0.0162 - accuracy: 0.9947 - val_loss: 0.0719 - val_accuracy: 0.9856\n",
      "Epoch 17/30\n",
      "600/600 [==============================] - 245s 408ms/step - loss: 0.0159 - accuracy: 0.9948 - val_loss: 0.0176 - val_accuracy: 0.9947\n",
      "Epoch 18/30\n",
      "600/600 [==============================] - 241s 401ms/step - loss: 0.0137 - accuracy: 0.9955 - val_loss: 0.0171 - val_accuracy: 0.9943\n",
      "Epoch 19/30\n",
      "600/600 [==============================] - 244s 407ms/step - loss: 0.0137 - accuracy: 0.9956 - val_loss: 0.0233 - val_accuracy: 0.9940\n",
      "Epoch 20/30\n",
      "600/600 [==============================] - 246s 410ms/step - loss: 0.0128 - accuracy: 0.9958 - val_loss: 0.0173 - val_accuracy: 0.9947\n",
      "Epoch 21/30\n",
      "600/600 [==============================] - 248s 413ms/step - loss: 0.0108 - accuracy: 0.9966 - val_loss: 0.0195 - val_accuracy: 0.9944\n",
      "Epoch 22/30\n",
      "600/600 [==============================] - 249s 415ms/step - loss: 0.0114 - accuracy: 0.9964 - val_loss: 0.0171 - val_accuracy: 0.9947\n",
      "Epoch 23/30\n",
      "600/600 [==============================] - 254s 424ms/step - loss: 0.0113 - accuracy: 0.9962 - val_loss: 0.0192 - val_accuracy: 0.9949\n",
      "Epoch 24/30\n",
      "600/600 [==============================] - 252s 420ms/step - loss: 0.0093 - accuracy: 0.9971 - val_loss: 0.0166 - val_accuracy: 0.9958\n",
      "Epoch 25/30\n",
      "600/600 [==============================] - 242s 403ms/step - loss: 0.0102 - accuracy: 0.9969 - val_loss: 0.0237 - val_accuracy: 0.9939\n",
      "Epoch 26/30\n",
      "600/600 [==============================] - 242s 403ms/step - loss: 0.0082 - accuracy: 0.9973 - val_loss: 0.0219 - val_accuracy: 0.9942\n",
      "Epoch 27/30\n",
      "600/600 [==============================] - 243s 406ms/step - loss: 0.0090 - accuracy: 0.9972 - val_loss: 0.0198 - val_accuracy: 0.9949\n",
      "Epoch 28/30\n",
      "600/600 [==============================] - 247s 412ms/step - loss: 0.0075 - accuracy: 0.9976 - val_loss: 0.0185 - val_accuracy: 0.9949\n",
      "Epoch 29/30\n",
      "600/600 [==============================] - 242s 404ms/step - loss: 0.0075 - accuracy: 0.9978 - val_loss: 0.0204 - val_accuracy: 0.9952\n",
      "Epoch 30/30\n",
      "600/600 [==============================] - 243s 404ms/step - loss: 0.0075 - accuracy: 0.9975 - val_loss: 0.0223 - val_accuracy: 0.9958\n"
     ]
    }
   ],
   "source": [
    "# train the model using training set(mnist set here) `\n",
    "hist=model.fit(xtrain,ytrain,validation_data=(xtest,ytest),epochs=30,batch_size=100)"
   ]
  },
  {
   "cell_type": "code",
   "execution_count": 9,
   "metadata": {
    "scrolled": false
   },
   "outputs": [
    {
     "data": {
      "image/png": "[encoded data removed]",
      "text/plain": [
       "<Figure size 432x288 with 1 Axes>"
      ]
     },
     "metadata": {
      "needs_background": "light"
     },
     "output_type": "display_data"
    }
   ],
   "source": [
    "plt.plot(hist.history['accuracy'])\n",
    "plt.plot(hist.history['val_accuracy'])\n",
    "plt.title('model accuracy')\n",
    "plt.ylabel('accuracy')\n",
    "plt.xlabel('epoch')\n",
    "\n",
    "plt.legend(['train', 'val'], loc='upper left')\n",
    "plt.show()\n",
    "#model.save('simple_sequential_model2')"
   ]
  },
  {
   "cell_type": "code",
   "execution_count": 3,
   "metadata": {},
   "outputs": [
    {
     "data": {
      "text/plain": [
       "'2.3.1'"
      ]
     },
     "execution_count": 3,
     "metadata": {},
     "output_type": "execute_result"
    }
   ],
   "source": [
    "tf.__version__"
   ]
  },
  {
   "cell_type": "code",
   "execution_count": null,
   "metadata": {
    "scrolled": false
   },
   "outputs": [],
   "source": []
  },
  {
   "cell_type": "code",
   "execution_count": null,
   "metadata": {
    "scrolled": true
   },
   "outputs": [],
   "source": []
  },
  {
   "cell_type": "code",
   "execution_count": null,
   "metadata": {
    "scrolled": false
   },
   "outputs": [],
   "source": []
  },
  {
   "cell_type": "code",
   "execution_count": null,
   "metadata": {
    "scrolled": true
   },
   "outputs": [],
   "source": []
  },
  {
   "cell_type": "code",
   "execution_count": null,
   "metadata": {
    "scrolled": true
   },
   "outputs": [],
   "source": []
  },
  {
   "cell_type": "code",
   "execution_count": null,
   "metadata": {},
   "outputs": [],
   "source": []
  },
  {
   "cell_type": "code",
   "execution_count": null,
   "metadata": {},
   "outputs": [],
   "source": []
  },
  {
   "cell_type": "code",
   "execution_count": null,
   "metadata": {},
   "outputs": [],
   "source": []
  },
  {
   "cell_type": "code",
   "execution_count": null,
   "metadata": {},
   "outputs": [],
   "source": []
  },
  {
   "cell_type": "code",
   "execution_count": null,
   "metadata": {},
   "outputs": [],
   "source": []
  }
 ],
 "metadata": {
  "kernelspec": {
   "display_name": "Python 3",
   "language": "python",
   "name": "python3"
  },
  "language_info": {
   "codemirror_mode": {
    "name": "ipython",
    "version": 3
   },
   "file_extension": ".py",
   "mimetype": "text/x-python",
   "name": "python",
   "nbconvert_exporter": "python",
   "pygments_lexer": "ipython3",
   "version": "3.8.3"
  }
 },
 "nbformat": 4,
 "nbformat_minor": 4
}
